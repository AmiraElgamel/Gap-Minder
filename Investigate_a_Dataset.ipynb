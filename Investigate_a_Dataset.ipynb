{
 "cells": [
  {
   "cell_type": "markdown",
   "metadata": {},
   "source": [
    "\n",
    "# Project: GapMinder World Dataset\n",
    "\n",
    "## Table of Contents\n",
    "<ul>\n",
    "<li><a href=\"#intro\">Introduction</a></li>\n",
    "<li><a href=\"#wrangling\">Data Wrangling</a></li>\n",
    "<li><a href=\"#eda\">Exploratory Data Analysis</a></li>\n",
    "<li><a href=\"#conclusions\">Conclusions</a></li>\n",
    "</ul>"
   ]
  },
  {
   "cell_type": "markdown",
   "metadata": {},
   "source": [
    "<a id='intro'></a>\n",
    "## Introduction\n",
    "\n",
    "GapMinder world is a collection of informations about how people lives in their countries and the levels of all life categories among diffrent countries in the world.\n",
    "\n",
    "This project will investigate some indicators:\n",
    "1. Life expectancy years : The average years a new born would live if current mortality pattern stay same.\n",
    "2. Population density per square kilometers\n",
    "3. Education aid given for a person\n",
    "4. Income per person in US dollar\n",
    "5. Total health spending per person :The average health expenditure per person expressed in US dollar .\n",
    "6. Child mortality :Death of children under 5 years per 1000 birth.\n",
    "\n",
    "Questions to investigate:\n",
    "1. Does spending more money on the health per person increase the life expectancy for the person?\n",
    "2. The Relation between health spent per person and child mortality:\n",
    "3. Does increasing the population density in countries affect the education aig given to a person ?\n",
    "4. Does the population density affect the income per person?\n",
    "5. what is the higher income per person in 2007?"
   ]
  },
  {
   "cell_type": "code",
   "execution_count": 6,
   "metadata": {},
   "outputs": [],
   "source": [
    "import pandas as pd\n",
    "import numpy as np\n",
    "import os\n",
    "import matplotlib.pyplot as plt\n",
    "%matplotlib inline\n",
    "import seaborn as sns\n"
   ]
  },
  {
   "cell_type": "markdown",
   "metadata": {},
   "source": [
    "<a id='wrangling'></a>\n",
    "## Data Wrangling\n",
    "\n",
    "### General Properties"
   ]
  },
  {
   "cell_type": "markdown",
   "metadata": {},
   "source": [
    "loading the dataframes from the data files"
   ]
  },
  {
   "cell_type": "code",
   "execution_count": 7,
   "metadata": {},
   "outputs": [
    {
     "data": {
      "text/html": [
       "<div>\n",
       "<style scoped>\n",
       "    .dataframe tbody tr th:only-of-type {\n",
       "        vertical-align: middle;\n",
       "    }\n",
       "\n",
       "    .dataframe tbody tr th {\n",
       "        vertical-align: top;\n",
       "    }\n",
       "\n",
       "    .dataframe thead th {\n",
       "        text-align: right;\n",
       "    }\n",
       "</style>\n",
       "<table border=\"1\" class=\"dataframe\">\n",
       "  <thead>\n",
       "    <tr style=\"text-align: right;\">\n",
       "      <th></th>\n",
       "      <th>country</th>\n",
       "      <th>1800</th>\n",
       "      <th>1801</th>\n",
       "      <th>1802</th>\n",
       "      <th>1803</th>\n",
       "      <th>1804</th>\n",
       "      <th>1805</th>\n",
       "      <th>1806</th>\n",
       "      <th>1807</th>\n",
       "      <th>1808</th>\n",
       "      <th>...</th>\n",
       "      <th>2091</th>\n",
       "      <th>2092</th>\n",
       "      <th>2093</th>\n",
       "      <th>2094</th>\n",
       "      <th>2095</th>\n",
       "      <th>2096</th>\n",
       "      <th>2097</th>\n",
       "      <th>2098</th>\n",
       "      <th>2099</th>\n",
       "      <th>2100</th>\n",
       "    </tr>\n",
       "  </thead>\n",
       "  <tbody>\n",
       "    <tr>\n",
       "      <th>0</th>\n",
       "      <td>Afghanistan</td>\n",
       "      <td>28.2</td>\n",
       "      <td>28.2</td>\n",
       "      <td>28.2</td>\n",
       "      <td>28.2</td>\n",
       "      <td>28.2</td>\n",
       "      <td>28.2</td>\n",
       "      <td>28.1</td>\n",
       "      <td>28.1</td>\n",
       "      <td>28.1</td>\n",
       "      <td>...</td>\n",
       "      <td>76.5</td>\n",
       "      <td>76.6</td>\n",
       "      <td>76.7</td>\n",
       "      <td>76.9</td>\n",
       "      <td>77.0</td>\n",
       "      <td>77.1</td>\n",
       "      <td>77.3</td>\n",
       "      <td>77.4</td>\n",
       "      <td>77.5</td>\n",
       "      <td>77.7</td>\n",
       "    </tr>\n",
       "    <tr>\n",
       "      <th>1</th>\n",
       "      <td>Albania</td>\n",
       "      <td>35.4</td>\n",
       "      <td>35.4</td>\n",
       "      <td>35.4</td>\n",
       "      <td>35.4</td>\n",
       "      <td>35.4</td>\n",
       "      <td>35.4</td>\n",
       "      <td>35.4</td>\n",
       "      <td>35.4</td>\n",
       "      <td>35.4</td>\n",
       "      <td>...</td>\n",
       "      <td>87.4</td>\n",
       "      <td>87.5</td>\n",
       "      <td>87.6</td>\n",
       "      <td>87.7</td>\n",
       "      <td>87.8</td>\n",
       "      <td>87.9</td>\n",
       "      <td>88.0</td>\n",
       "      <td>88.1</td>\n",
       "      <td>88.2</td>\n",
       "      <td>88.3</td>\n",
       "    </tr>\n",
       "    <tr>\n",
       "      <th>2</th>\n",
       "      <td>Algeria</td>\n",
       "      <td>28.8</td>\n",
       "      <td>28.8</td>\n",
       "      <td>28.8</td>\n",
       "      <td>28.8</td>\n",
       "      <td>28.8</td>\n",
       "      <td>28.8</td>\n",
       "      <td>28.8</td>\n",
       "      <td>28.8</td>\n",
       "      <td>28.8</td>\n",
       "      <td>...</td>\n",
       "      <td>88.3</td>\n",
       "      <td>88.4</td>\n",
       "      <td>88.5</td>\n",
       "      <td>88.6</td>\n",
       "      <td>88.7</td>\n",
       "      <td>88.8</td>\n",
       "      <td>88.9</td>\n",
       "      <td>89.0</td>\n",
       "      <td>89.1</td>\n",
       "      <td>89.2</td>\n",
       "    </tr>\n",
       "    <tr>\n",
       "      <th>3</th>\n",
       "      <td>Andorra</td>\n",
       "      <td>NaN</td>\n",
       "      <td>NaN</td>\n",
       "      <td>NaN</td>\n",
       "      <td>NaN</td>\n",
       "      <td>NaN</td>\n",
       "      <td>NaN</td>\n",
       "      <td>NaN</td>\n",
       "      <td>NaN</td>\n",
       "      <td>NaN</td>\n",
       "      <td>...</td>\n",
       "      <td>NaN</td>\n",
       "      <td>NaN</td>\n",
       "      <td>NaN</td>\n",
       "      <td>NaN</td>\n",
       "      <td>NaN</td>\n",
       "      <td>NaN</td>\n",
       "      <td>NaN</td>\n",
       "      <td>NaN</td>\n",
       "      <td>NaN</td>\n",
       "      <td>NaN</td>\n",
       "    </tr>\n",
       "    <tr>\n",
       "      <th>4</th>\n",
       "      <td>Angola</td>\n",
       "      <td>27.0</td>\n",
       "      <td>27.0</td>\n",
       "      <td>27.0</td>\n",
       "      <td>27.0</td>\n",
       "      <td>27.0</td>\n",
       "      <td>27.0</td>\n",
       "      <td>27.0</td>\n",
       "      <td>27.0</td>\n",
       "      <td>27.0</td>\n",
       "      <td>...</td>\n",
       "      <td>78.7</td>\n",
       "      <td>78.9</td>\n",
       "      <td>79.0</td>\n",
       "      <td>79.1</td>\n",
       "      <td>79.3</td>\n",
       "      <td>79.4</td>\n",
       "      <td>79.5</td>\n",
       "      <td>79.7</td>\n",
       "      <td>79.8</td>\n",
       "      <td>79.9</td>\n",
       "    </tr>\n",
       "  </tbody>\n",
       "</table>\n",
       "<p>5 rows × 302 columns</p>\n",
       "</div>"
      ],
      "text/plain": [
       "       country  1800  1801  1802  1803  1804  1805  1806  1807  1808  ...   \\\n",
       "0  Afghanistan  28.2  28.2  28.2  28.2  28.2  28.2  28.1  28.1  28.1  ...    \n",
       "1      Albania  35.4  35.4  35.4  35.4  35.4  35.4  35.4  35.4  35.4  ...    \n",
       "2      Algeria  28.8  28.8  28.8  28.8  28.8  28.8  28.8  28.8  28.8  ...    \n",
       "3      Andorra   NaN   NaN   NaN   NaN   NaN   NaN   NaN   NaN   NaN  ...    \n",
       "4       Angola  27.0  27.0  27.0  27.0  27.0  27.0  27.0  27.0  27.0  ...    \n",
       "\n",
       "   2091  2092  2093  2094  2095  2096  2097  2098  2099  2100  \n",
       "0  76.5  76.6  76.7  76.9  77.0  77.1  77.3  77.4  77.5  77.7  \n",
       "1  87.4  87.5  87.6  87.7  87.8  87.9  88.0  88.1  88.2  88.3  \n",
       "2  88.3  88.4  88.5  88.6  88.7  88.8  88.9  89.0  89.1  89.2  \n",
       "3   NaN   NaN   NaN   NaN   NaN   NaN   NaN   NaN   NaN   NaN  \n",
       "4  78.7  78.9  79.0  79.1  79.3  79.4  79.5  79.7  79.8  79.9  \n",
       "\n",
       "[5 rows x 302 columns]"
      ]
     },
     "execution_count": 7,
     "metadata": {},
     "output_type": "execute_result"
    }
   ],
   "source": [
    "life_df = pd.read_csv('life_expectancy_years.csv')\n",
    "life_df.head()"
   ]
  },
  {
   "cell_type": "code",
   "execution_count": 8,
   "metadata": {},
   "outputs": [],
   "source": [
    "pop_den_df = pd.read_csv('population_density_per_square_km.csv')\n",
    "educ_df=pd.read_csv('education_aid_given_percent_of_aid.csv')\n",
    "child_df = pd.read_csv('child_mortality_0_5_year_olds_dying_per_1000_born.csv')\n",
    "income_df= pd.read_csv('income_per_person_gdppercapita_ppp_inflation_adjusted.csv')\n",
    "health_df= pd.read_csv('total_health_spending_per_person_us.csv')"
   ]
  },
  {
   "cell_type": "markdown",
   "metadata": {},
   "source": [
    "Reshaping the data to be indexed by country and year"
   ]
  },
  {
   "cell_type": "code",
   "execution_count": 9,
   "metadata": {},
   "outputs": [],
   "source": [
    "\"\"\"The melt function takes data in wide format and stacks a set of columns into a single column of data \"\"\"\n",
    "\n",
    "life= life_df.melt(id_vars ='country' , var_name ='year' , value_name = 'life').set_index(['country' , 'year'])\n",
    "pop_den= pop_den_df.melt(id_vars ='country' , var_name ='year' , value_name = 'population_density').set_index(['country' , 'year'])\n",
    "education= educ_df.melt(id_vars ='country' , var_name ='year' , value_name = 'education').set_index(['country' , 'year'])\n",
    "child= child_df.melt(id_vars ='country' , var_name ='year' , value_name = 'child').set_index(['country' , 'year'])\n",
    "income= income_df.melt(id_vars ='country' , var_name ='year' , value_name = 'income_per_person').set_index(['country' , 'year'])\n",
    "health= health_df.melt(id_vars ='country' , var_name ='year' , value_name = 'health_spent_person').set_index(['country' , 'year'])"
   ]
  },
  {
   "cell_type": "code",
   "execution_count": 10,
   "metadata": {},
   "outputs": [
    {
     "data": {
      "text/html": [
       "<div>\n",
       "<style scoped>\n",
       "    .dataframe tbody tr th:only-of-type {\n",
       "        vertical-align: middle;\n",
       "    }\n",
       "\n",
       "    .dataframe tbody tr th {\n",
       "        vertical-align: top;\n",
       "    }\n",
       "\n",
       "    .dataframe thead th {\n",
       "        text-align: right;\n",
       "    }\n",
       "</style>\n",
       "<table border=\"1\" class=\"dataframe\">\n",
       "  <thead>\n",
       "    <tr style=\"text-align: right;\">\n",
       "      <th></th>\n",
       "      <th></th>\n",
       "      <th>health_spent_person</th>\n",
       "    </tr>\n",
       "    <tr>\n",
       "      <th>country</th>\n",
       "      <th>year</th>\n",
       "      <th></th>\n",
       "    </tr>\n",
       "  </thead>\n",
       "  <tbody>\n",
       "    <tr>\n",
       "      <th>Afghanistan</th>\n",
       "      <th>1995</th>\n",
       "      <td>NaN</td>\n",
       "    </tr>\n",
       "    <tr>\n",
       "      <th>Albania</th>\n",
       "      <th>1995</th>\n",
       "      <td>27.9</td>\n",
       "    </tr>\n",
       "    <tr>\n",
       "      <th>Algeria</th>\n",
       "      <th>1995</th>\n",
       "      <td>62.1</td>\n",
       "    </tr>\n",
       "    <tr>\n",
       "      <th>Andorra</th>\n",
       "      <th>1995</th>\n",
       "      <td>1390.0</td>\n",
       "    </tr>\n",
       "    <tr>\n",
       "      <th>Angola</th>\n",
       "      <th>1995</th>\n",
       "      <td>15.6</td>\n",
       "    </tr>\n",
       "  </tbody>\n",
       "</table>\n",
       "</div>"
      ],
      "text/plain": [
       "                  health_spent_person\n",
       "country     year                     \n",
       "Afghanistan 1995                  NaN\n",
       "Albania     1995                 27.9\n",
       "Algeria     1995                 62.1\n",
       "Andorra     1995               1390.0\n",
       "Angola      1995                 15.6"
      ]
     },
     "execution_count": 10,
     "metadata": {},
     "output_type": "execute_result"
    }
   ],
   "source": [
    "health.head()"
   ]
  },
  {
   "cell_type": "markdown",
   "metadata": {},
   "source": [
    "collecting all the datas in one data frame with the same multi-index (country and year)\n",
    "only concatinate the mutable data"
   ]
  },
  {
   "cell_type": "code",
   "execution_count": 11,
   "metadata": {
    "scrolled": true
   },
   "outputs": [
    {
     "data": {
      "text/html": [
       "<div>\n",
       "<style scoped>\n",
       "    .dataframe tbody tr th:only-of-type {\n",
       "        vertical-align: middle;\n",
       "    }\n",
       "\n",
       "    .dataframe tbody tr th {\n",
       "        vertical-align: top;\n",
       "    }\n",
       "\n",
       "    .dataframe thead th {\n",
       "        text-align: right;\n",
       "    }\n",
       "</style>\n",
       "<table border=\"1\" class=\"dataframe\">\n",
       "  <thead>\n",
       "    <tr style=\"text-align: right;\">\n",
       "      <th></th>\n",
       "      <th></th>\n",
       "      <th>life</th>\n",
       "      <th>population_density</th>\n",
       "      <th>education</th>\n",
       "      <th>child</th>\n",
       "      <th>income_per_person</th>\n",
       "      <th>health_spent_person</th>\n",
       "    </tr>\n",
       "    <tr>\n",
       "      <th>country</th>\n",
       "      <th>year</th>\n",
       "      <th></th>\n",
       "      <th></th>\n",
       "      <th></th>\n",
       "      <th></th>\n",
       "      <th></th>\n",
       "      <th></th>\n",
       "    </tr>\n",
       "  </thead>\n",
       "  <tbody>\n",
       "    <tr>\n",
       "      <th rowspan=\"5\" valign=\"top\">Australia</th>\n",
       "      <th>1995</th>\n",
       "      <td>78.2</td>\n",
       "      <td>2.34</td>\n",
       "      <td>0.291</td>\n",
       "      <td>7.01</td>\n",
       "      <td>30400</td>\n",
       "      <td>1570.0</td>\n",
       "    </tr>\n",
       "    <tr>\n",
       "      <th>1996</th>\n",
       "      <td>78.3</td>\n",
       "      <td>2.37</td>\n",
       "      <td>0.294</td>\n",
       "      <td>6.77</td>\n",
       "      <td>31200</td>\n",
       "      <td>1760.0</td>\n",
       "    </tr>\n",
       "    <tr>\n",
       "      <th>1997</th>\n",
       "      <td>78.6</td>\n",
       "      <td>2.39</td>\n",
       "      <td>0.280</td>\n",
       "      <td>6.59</td>\n",
       "      <td>32100</td>\n",
       "      <td>1760.0</td>\n",
       "    </tr>\n",
       "    <tr>\n",
       "      <th>1998</th>\n",
       "      <td>78.9</td>\n",
       "      <td>2.42</td>\n",
       "      <td>0.283</td>\n",
       "      <td>6.45</td>\n",
       "      <td>33200</td>\n",
       "      <td>1590.0</td>\n",
       "    </tr>\n",
       "    <tr>\n",
       "      <th>1999</th>\n",
       "      <td>79.3</td>\n",
       "      <td>2.45</td>\n",
       "      <td>0.275</td>\n",
       "      <td>6.31</td>\n",
       "      <td>34500</td>\n",
       "      <td>1750.0</td>\n",
       "    </tr>\n",
       "  </tbody>\n",
       "</table>\n",
       "</div>"
      ],
      "text/plain": [
       "                life  population_density  education  child  income_per_person  \\\n",
       "country   year                                                                  \n",
       "Australia 1995  78.2                2.34      0.291   7.01              30400   \n",
       "          1996  78.3                2.37      0.294   6.77              31200   \n",
       "          1997  78.6                2.39      0.280   6.59              32100   \n",
       "          1998  78.9                2.42      0.283   6.45              33200   \n",
       "          1999  79.3                2.45      0.275   6.31              34500   \n",
       "\n",
       "                health_spent_person  \n",
       "country   year                       \n",
       "Australia 1995               1570.0  \n",
       "          1996               1760.0  \n",
       "          1997               1760.0  \n",
       "          1998               1590.0  \n",
       "          1999               1750.0  "
      ]
     },
     "execution_count": 11,
     "metadata": {},
     "output_type": "execute_result"
    }
   ],
   "source": [
    "df=pd.concat([life , pop_den , education , child , income , health] , axis=1 , ignore_index=False , join = 'inner')\n",
    "df.head()"
   ]
  },
  {
   "cell_type": "code",
   "execution_count": 12,
   "metadata": {},
   "outputs": [
    {
     "data": {
      "text/plain": [
       "(286, 6)"
      ]
     },
     "execution_count": 12,
     "metadata": {},
     "output_type": "execute_result"
    }
   ],
   "source": [
    "df.shape"
   ]
  },
  {
   "cell_type": "code",
   "execution_count": 13,
   "metadata": {},
   "outputs": [
    {
     "data": {
      "text/html": [
       "<div>\n",
       "<style scoped>\n",
       "    .dataframe tbody tr th:only-of-type {\n",
       "        vertical-align: middle;\n",
       "    }\n",
       "\n",
       "    .dataframe tbody tr th {\n",
       "        vertical-align: top;\n",
       "    }\n",
       "\n",
       "    .dataframe thead th {\n",
       "        text-align: right;\n",
       "    }\n",
       "</style>\n",
       "<table border=\"1\" class=\"dataframe\">\n",
       "  <thead>\n",
       "    <tr style=\"text-align: right;\">\n",
       "      <th></th>\n",
       "      <th>life</th>\n",
       "      <th>population_density</th>\n",
       "      <th>education</th>\n",
       "      <th>child</th>\n",
       "      <th>income_per_person</th>\n",
       "      <th>health_spent_person</th>\n",
       "    </tr>\n",
       "  </thead>\n",
       "  <tbody>\n",
       "    <tr>\n",
       "      <th>count</th>\n",
       "      <td>286.000000</td>\n",
       "      <td>286.000000</td>\n",
       "      <td>279.000000</td>\n",
       "      <td>286.000000</td>\n",
       "      <td>286.000000</td>\n",
       "      <td>286.000000</td>\n",
       "    </tr>\n",
       "    <tr>\n",
       "      <th>mean</th>\n",
       "      <td>78.784615</td>\n",
       "      <td>134.986259</td>\n",
       "      <td>0.194820</td>\n",
       "      <td>5.710874</td>\n",
       "      <td>39284.265734</td>\n",
       "      <td>2815.842657</td>\n",
       "    </tr>\n",
       "    <tr>\n",
       "      <th>std</th>\n",
       "      <td>1.480579</td>\n",
       "      <td>126.282781</td>\n",
       "      <td>0.121757</td>\n",
       "      <td>1.288362</td>\n",
       "      <td>12226.772350</td>\n",
       "      <td>1358.001566</td>\n",
       "    </tr>\n",
       "    <tr>\n",
       "      <th>min</th>\n",
       "      <td>75.300000</td>\n",
       "      <td>2.340000</td>\n",
       "      <td>0.015800</td>\n",
       "      <td>3.320000</td>\n",
       "      <td>21200.000000</td>\n",
       "      <td>874.000000</td>\n",
       "    </tr>\n",
       "    <tr>\n",
       "      <th>25%</th>\n",
       "      <td>77.800000</td>\n",
       "      <td>21.700000</td>\n",
       "      <td>0.103000</td>\n",
       "      <td>4.770000</td>\n",
       "      <td>32525.000000</td>\n",
       "      <td>1842.500000</td>\n",
       "    </tr>\n",
       "    <tr>\n",
       "      <th>50%</th>\n",
       "      <td>78.800000</td>\n",
       "      <td>103.500000</td>\n",
       "      <td>0.162000</td>\n",
       "      <td>5.590000</td>\n",
       "      <td>37000.000000</td>\n",
       "      <td>2590.000000</td>\n",
       "    </tr>\n",
       "    <tr>\n",
       "      <th>75%</th>\n",
       "      <td>79.775000</td>\n",
       "      <td>194.000000</td>\n",
       "      <td>0.258500</td>\n",
       "      <td>6.457500</td>\n",
       "      <td>42500.000000</td>\n",
       "      <td>3597.500000</td>\n",
       "    </tr>\n",
       "    <tr>\n",
       "      <th>max</th>\n",
       "      <td>82.800000</td>\n",
       "      <td>490.000000</td>\n",
       "      <td>0.582000</td>\n",
       "      <td>9.740000</td>\n",
       "      <td>97900.000000</td>\n",
       "      <td>7630.000000</td>\n",
       "    </tr>\n",
       "  </tbody>\n",
       "</table>\n",
       "</div>"
      ],
      "text/plain": [
       "             life  population_density   education       child  \\\n",
       "count  286.000000          286.000000  279.000000  286.000000   \n",
       "mean    78.784615          134.986259    0.194820    5.710874   \n",
       "std      1.480579          126.282781    0.121757    1.288362   \n",
       "min     75.300000            2.340000    0.015800    3.320000   \n",
       "25%     77.800000           21.700000    0.103000    4.770000   \n",
       "50%     78.800000          103.500000    0.162000    5.590000   \n",
       "75%     79.775000          194.000000    0.258500    6.457500   \n",
       "max     82.800000          490.000000    0.582000    9.740000   \n",
       "\n",
       "       income_per_person  health_spent_person  \n",
       "count         286.000000           286.000000  \n",
       "mean        39284.265734          2815.842657  \n",
       "std         12226.772350          1358.001566  \n",
       "min         21200.000000           874.000000  \n",
       "25%         32525.000000          1842.500000  \n",
       "50%         37000.000000          2590.000000  \n",
       "75%         42500.000000          3597.500000  \n",
       "max         97900.000000          7630.000000  "
      ]
     },
     "execution_count": 13,
     "metadata": {},
     "output_type": "execute_result"
    }
   ],
   "source": [
    "df.describe()"
   ]
  },
  {
   "cell_type": "code",
   "execution_count": 14,
   "metadata": {},
   "outputs": [
    {
     "name": "stdout",
     "output_type": "stream",
     "text": [
      "<class 'pandas.core.frame.DataFrame'>\n",
      "MultiIndex: 286 entries, (Australia, 1995) to (United States, 2007)\n",
      "Data columns (total 6 columns):\n",
      "life                   286 non-null float64\n",
      "population_density     286 non-null float64\n",
      "education              279 non-null float64\n",
      "child                  286 non-null float64\n",
      "income_per_person      286 non-null int64\n",
      "health_spent_person    286 non-null float64\n",
      "dtypes: float64(5), int64(1)\n",
      "memory usage: 14.3+ KB\n"
     ]
    }
   ],
   "source": [
    "df.info()"
   ]
  },
  {
   "cell_type": "markdown",
   "metadata": {},
   "source": [
    "### Modifing the empty data in education aid given with the mean value"
   ]
  },
  {
   "cell_type": "code",
   "execution_count": 15,
   "metadata": {},
   "outputs": [],
   "source": [
    "df=df.fillna(df.mean())"
   ]
  },
  {
   "cell_type": "code",
   "execution_count": 16,
   "metadata": {},
   "outputs": [
    {
     "name": "stdout",
     "output_type": "stream",
     "text": [
      "<class 'pandas.core.frame.DataFrame'>\n",
      "MultiIndex: 286 entries, (Australia, 1995) to (United States, 2007)\n",
      "Data columns (total 6 columns):\n",
      "life                   286 non-null float64\n",
      "population_density     286 non-null float64\n",
      "education              286 non-null float64\n",
      "child                  286 non-null float64\n",
      "income_per_person      286 non-null int64\n",
      "health_spent_person    286 non-null float64\n",
      "dtypes: float64(5), int64(1)\n",
      "memory usage: 14.3+ KB\n"
     ]
    }
   ],
   "source": [
    "df.info()"
   ]
  },
  {
   "cell_type": "markdown",
   "metadata": {},
   "source": [
    "now all the data is clean and ready to be visualized"
   ]
  },
  {
   "cell_type": "markdown",
   "metadata": {},
   "source": [
    "<a id='eda'></a>\n",
    "## Exploratory Data Analysis\n",
    "\n",
    "\n",
    "### Research Question 1 : Does spending more money on the health per person increase the life expectancy for the person?"
   ]
  },
  {
   "cell_type": "code",
   "execution_count": 17,
   "metadata": {},
   "outputs": [
    {
     "data": {
      "text/plain": [
       "array([[<matplotlib.axes._subplots.AxesSubplot object at 0x7fddd8b5cc50>,\n",
       "        <matplotlib.axes._subplots.AxesSubplot object at 0x7fddd5eebac8>],\n",
       "       [<matplotlib.axes._subplots.AxesSubplot object at 0x7fddd5ea3b38>,\n",
       "        <matplotlib.axes._subplots.AxesSubplot object at 0x7fddd5e5ec18>],\n",
       "       [<matplotlib.axes._subplots.AxesSubplot object at 0x7fddd5ef6940>,\n",
       "        <matplotlib.axes._subplots.AxesSubplot object at 0x7fddd5efdb70>]], dtype=object)"
      ]
     },
     "execution_count": 17,
     "metadata": {},
     "output_type": "execute_result"
    },
    {
     "data": {
      "image/png": "[encoded data removed]",
      "text/plain": [
       "<matplotlib.figure.Figure at 0x7fddd8bc9e80>"
      ]
     },
     "metadata": {
      "needs_background": "light"
     },
     "output_type": "display_data"
    }
   ],
   "source": [
    "df.hist(figsize=(10,8))"
   ]
  },
  {
   "cell_type": "code",
   "execution_count": 18,
   "metadata": {},
   "outputs": [
    {
     "data": {
      "text/html": [
       "<div>\n",
       "<style scoped>\n",
       "    .dataframe tbody tr th:only-of-type {\n",
       "        vertical-align: middle;\n",
       "    }\n",
       "\n",
       "    .dataframe tbody tr th {\n",
       "        vertical-align: top;\n",
       "    }\n",
       "\n",
       "    .dataframe thead th {\n",
       "        text-align: right;\n",
       "    }\n",
       "</style>\n",
       "<table border=\"1\" class=\"dataframe\">\n",
       "  <thead>\n",
       "    <tr style=\"text-align: right;\">\n",
       "      <th></th>\n",
       "      <th></th>\n",
       "      <th>life</th>\n",
       "      <th>population_density</th>\n",
       "      <th>education</th>\n",
       "      <th>child</th>\n",
       "      <th>income_per_person</th>\n",
       "      <th>health_spent_person</th>\n",
       "    </tr>\n",
       "    <tr>\n",
       "      <th>country</th>\n",
       "      <th>year</th>\n",
       "      <th></th>\n",
       "      <th></th>\n",
       "      <th></th>\n",
       "      <th></th>\n",
       "      <th></th>\n",
       "      <th></th>\n",
       "    </tr>\n",
       "  </thead>\n",
       "  <tbody>\n",
       "    <tr>\n",
       "      <th rowspan=\"5\" valign=\"top\">United States</th>\n",
       "      <th>2003</th>\n",
       "      <td>77.2</td>\n",
       "      <td>31.7</td>\n",
       "      <td>0.0234</td>\n",
       "      <td>8.14</td>\n",
       "      <td>46900</td>\n",
       "      <td>5980.0</td>\n",
       "    </tr>\n",
       "    <tr>\n",
       "      <th>2004</th>\n",
       "      <td>77.5</td>\n",
       "      <td>32.0</td>\n",
       "      <td>0.0321</td>\n",
       "      <td>8.05</td>\n",
       "      <td>48300</td>\n",
       "      <td>6330.0</td>\n",
       "    </tr>\n",
       "    <tr>\n",
       "      <th>2005</th>\n",
       "      <td>77.6</td>\n",
       "      <td>32.2</td>\n",
       "      <td>0.0367</td>\n",
       "      <td>7.96</td>\n",
       "      <td>49500</td>\n",
       "      <td>6700.0</td>\n",
       "    </tr>\n",
       "    <tr>\n",
       "      <th>2006</th>\n",
       "      <td>77.8</td>\n",
       "      <td>32.6</td>\n",
       "      <td>0.0283</td>\n",
       "      <td>7.86</td>\n",
       "      <td>50400</td>\n",
       "      <td>7070.0</td>\n",
       "    </tr>\n",
       "    <tr>\n",
       "      <th>2007</th>\n",
       "      <td>78.0</td>\n",
       "      <td>32.9</td>\n",
       "      <td>0.0452</td>\n",
       "      <td>7.75</td>\n",
       "      <td>50900</td>\n",
       "      <td>7440.0</td>\n",
       "    </tr>\n",
       "  </tbody>\n",
       "</table>\n",
       "</div>"
      ],
      "text/plain": [
       "                    life  population_density  education  child  \\\n",
       "country       year                                               \n",
       "United States 2003  77.2                31.7     0.0234   8.14   \n",
       "              2004  77.5                32.0     0.0321   8.05   \n",
       "              2005  77.6                32.2     0.0367   7.96   \n",
       "              2006  77.8                32.6     0.0283   7.86   \n",
       "              2007  78.0                32.9     0.0452   7.75   \n",
       "\n",
       "                    income_per_person  health_spent_person  \n",
       "country       year                                          \n",
       "United States 2003              46900               5980.0  \n",
       "              2004              48300               6330.0  \n",
       "              2005              49500               6700.0  \n",
       "              2006              50400               7070.0  \n",
       "              2007              50900               7440.0  "
      ]
     },
     "execution_count": 18,
     "metadata": {},
     "output_type": "execute_result"
    }
   ],
   "source": [
    "df.tail()"
   ]
  },
  {
   "cell_type": "code",
   "execution_count": 19,
   "metadata": {},
   "outputs": [
    {
     "data": {
      "text/plain": [
       "<function matplotlib.pyplot.show(*args, **kw)>"
      ]
     },
     "execution_count": 19,
     "metadata": {},
     "output_type": "execute_result"
    },
    {
     "data": {
      "image/png": "[encoded data removed]",
      "text/plain": [
       "<matplotlib.figure.Figure at 0x7fddd5d1c828>"
      ]
     },
     "metadata": {
      "needs_background": "light"
     },
     "output_type": "display_data"
    }
   ],
   "source": [
    "plt.scatter(df['health_spent_person'],df['life'])\n",
    "plt.title('Total health spent vs life expectancy for person')\n",
    "plt.xlabel('Health spent per per in US')\n",
    "plt.ylabel('life expectancy years for person')\n",
    "plt.show"
   ]
  },
  {
   "cell_type": "markdown",
   "metadata": {},
   "source": [
    "The graph shows positive correlation between the total health spent per person and the life expectancy years per person."
   ]
  },
  {
   "cell_type": "markdown",
   "metadata": {},
   "source": [
    "#  Research Question 2 : The Relation between health spent per person and child mortality:"
   ]
  },
  {
   "cell_type": "code",
   "execution_count": 20,
   "metadata": {},
   "outputs": [
    {
     "data": {
      "text/plain": [
       "<function matplotlib.pyplot.show(*args, **kw)>"
      ]
     },
     "execution_count": 20,
     "metadata": {},
     "output_type": "execute_result"
    },
    {
     "data": {
      "image/png": "[encoded data removed]",
      "text/plain": [
       "<matplotlib.figure.Figure at 0x7fddd5be1080>"
      ]
     },
     "metadata": {
      "needs_background": "light"
     },
     "output_type": "display_data"
    }
   ],
   "source": [
    "plt.scatter(df['health_spent_person'],df['child'])\n",
    "plt.title('Total health spent vs child mortality')\n",
    "plt.xlabel('Health spent per per in US')\n",
    "plt.ylabel('child mortality')\n",
    "plt.show"
   ]
  },
  {
   "cell_type": "markdown",
   "metadata": {},
   "source": [
    "The graph shows a negative correlation between health expenditure per person and  death of children under 5 years"
   ]
  },
  {
   "cell_type": "markdown",
   "metadata": {},
   "source": [
    "# Research Question 3  Does increasing the population density in countries affect the education aid given to a person ?"
   ]
  },
  {
   "cell_type": "code",
   "execution_count": 21,
   "metadata": {},
   "outputs": [
    {
     "data": {
      "text/plain": [
       "<function matplotlib.pyplot.show(*args, **kw)>"
      ]
     },
     "execution_count": 21,
     "metadata": {},
     "output_type": "execute_result"
    },
    {
     "data": {
      "image/png": "[encoded data removed]",
      "text/plain": [
       "<matplotlib.figure.Figure at 0x7fddd5cff208>"
      ]
     },
     "metadata": {
      "needs_background": "light"
     },
     "output_type": "display_data"
    }
   ],
   "source": [
    "plt.scatter(df['population_density'],df['education'])\n",
    "plt.title('Population density vs Income per person')\n",
    "plt.xlabel('Population density')\n",
    "plt.ylabel('Education')\n",
    "plt.show\n"
   ]
  },
  {
   "cell_type": "code",
   "execution_count": 22,
   "metadata": {},
   "outputs": [
    {
     "data": {
      "text/plain": [
       "array([[ 1.        , -0.09630788],\n",
       "       [-0.09630788,  1.        ]])"
      ]
     },
     "execution_count": 22,
     "metadata": {},
     "output_type": "execute_result"
    }
   ],
   "source": [
    "np.corrcoef(df['population_density'], df['education'])"
   ]
  },
  {
   "cell_type": "markdown",
   "metadata": {},
   "source": [
    "The relation between population density and education aid given to a person shows negative correlation"
   ]
  },
  {
   "cell_type": "markdown",
   "metadata": {},
   "source": [
    "# Question 4: Does the population density affect the income per person?"
   ]
  },
  {
   "cell_type": "code",
   "execution_count": 23,
   "metadata": {},
   "outputs": [
    {
     "data": {
      "text/plain": [
       "<function matplotlib.pyplot.show(*args, **kw)>"
      ]
     },
     "execution_count": 23,
     "metadata": {},
     "output_type": "execute_result"
    },
    {
     "data": {
      "image/png": "[encoded data removed]",
      "text/plain": [
       "<matplotlib.figure.Figure at 0x7fddd8bc99e8>"
      ]
     },
     "metadata": {
      "needs_background": "light"
     },
     "output_type": "display_data"
    }
   ],
   "source": [
    "plt.scatter(df['population_density'],df['income_per_person'])\n",
    "plt.title('Relation between population density and income per person')\n",
    "plt.xlabel('Population density')\n",
    "plt.ylabel('Income per person in US dollar')\n",
    "plt.show"
   ]
  },
  {
   "cell_type": "code",
   "execution_count": 24,
   "metadata": {},
   "outputs": [
    {
     "data": {
      "text/plain": [
       "array([[ 1.        ,  0.04531704],\n",
       "       [ 0.04531704,  1.        ]])"
      ]
     },
     "execution_count": 24,
     "metadata": {},
     "output_type": "execute_result"
    }
   ],
   "source": [
    "np.corrcoef(df['population_density'], df['income_per_person'])"
   ]
  },
  {
   "cell_type": "markdown",
   "metadata": {},
   "source": [
    "The graph shows no remarkable relation between population density and the income per person"
   ]
  },
  {
   "cell_type": "markdown",
   "metadata": {},
   "source": [
    "# Question 5: what is the higher income per person in 2007"
   ]
  },
  {
   "cell_type": "markdown",
   "metadata": {},
   "source": [
    "Get a dataframe for income per person in year 2007 only"
   ]
  },
  {
   "cell_type": "code",
   "execution_count": 25,
   "metadata": {},
   "outputs": [
    {
     "data": {
      "text/plain": [
       "country         year\n",
       "Australia       2007    40700\n",
       "Austria         2007    43900\n",
       "Belgium         2007    41600\n",
       "Canada          2007    41600\n",
       "Denmark         2007    46400\n",
       "Finland         2007    42500\n",
       "France          2007    37700\n",
       "Germany         2007    40500\n",
       "Greece          2007    32100\n",
       "Ireland         2007    48700\n",
       "Italy           2007    38600\n",
       "Japan           2007    36700\n",
       "Luxembourg      2007    97900\n",
       "Netherlands     2007    46900\n",
       "New Zealand     2007    33100\n",
       "Norway          2007    65100\n",
       "Portugal        2007    27600\n",
       "Spain           2007    34300\n",
       "Sweden          2007    44100\n",
       "Switzerland     2007    56300\n",
       "United Kingdom  2007    38500\n",
       "United States   2007    50900\n",
       "Name: income_per_person, dtype: int64"
      ]
     },
     "execution_count": 25,
     "metadata": {},
     "output_type": "execute_result"
    }
   ],
   "source": [
    "y_income = df.query('year == \"2007\"').income_per_person\n",
    "y_income"
   ]
  },
  {
   "cell_type": "markdown",
   "metadata": {},
   "source": [
    "The list of countries"
   ]
  },
  {
   "cell_type": "code",
   "execution_count": 26,
   "metadata": {},
   "outputs": [],
   "source": [
    "x= y_income.index.get_level_values(0)"
   ]
  },
  {
   "cell_type": "code",
   "execution_count": null,
   "metadata": {},
   "outputs": [
    {
     "data": {
      "text/plain": [
       "<function matplotlib.pyplot.show(*args, **kw)>"
      ]
     },
     "execution_count": 27,
     "metadata": {},
     "output_type": "execute_result"
    }
   ],
   "source": [
    "plt.figure(figsize=(15,10))\n",
    "plt.bar(x , y_income)\n",
    "plt.title('Income per person in year 2007', fontsize=15, color='darkred', weight='bold')\n",
    "plt.xlabel('country')\n",
    "plt.xticks(rotation=45)\n",
    "plt.ylabel('income per person')\n",
    "plt.show"
   ]
  },
  {
   "cell_type": "markdown",
   "metadata": {},
   "source": [
    "maximum and minimum incom in 2007"
   ]
  },
  {
   "cell_type": "code",
   "execution_count": 23,
   "metadata": {},
   "outputs": [
    {
     "data": {
      "text/plain": [
       "97900"
      ]
     },
     "execution_count": 23,
     "metadata": {},
     "output_type": "execute_result"
    }
   ],
   "source": [
    "y_income.max()"
   ]
  },
  {
   "cell_type": "code",
   "execution_count": 24,
   "metadata": {},
   "outputs": [
    {
     "data": {
      "text/plain": [
       "27600"
      ]
     },
     "execution_count": 24,
     "metadata": {},
     "output_type": "execute_result"
    }
   ],
   "source": [
    "y_income.min()"
   ]
  },
  {
   "cell_type": "markdown",
   "metadata": {},
   "source": [
    "# Limitation\n",
    "The challenge I really faced in the coding of this projects are:\n",
    "\n",
    "1. Choosing the proper data to handle it, and to make relations between different data among different countries.\n",
    "\n",
    "2. I had a terrible in collecting all the data in a proper dataframe and make the country and year as indicies for all the      indicators, first I concatinated all the data without indexing but it gived me a huge dataframe without specific indicator  values, then I tried melt function to reshape each indicator with the same indecies, then cocatinat the mutable data together. \n",
    "\n",
    "\n",
    "<a id='conclusions'></a>\n",
    "## Conclusions\n",
    "\n",
    "1. The health expenditure per person and life expectancy year graph shows a positive correlation.\n",
    "2. The higer health expenditure per person, the lower death of children under 5 years (negative correlation).\n",
    "3. The higer country in the income per person is Luxemburg with 97900 US dollars.\n",
    "4. The minimum country in the income per person is portugal with 27600 US dollars.\n",
    "\n"
   ]
  },
  {
   "cell_type": "code",
   "execution_count": 25,
   "metadata": {},
   "outputs": [
    {
     "data": {
      "text/plain": [
       "0"
      ]
     },
     "execution_count": 25,
     "metadata": {},
     "output_type": "execute_result"
    }
   ],
   "source": [
    "from subprocess import call\n",
    "call(['python', '-m', 'nbconvert', 'Investigate_a_Dataset.ipynb'])"
   ]
  },
  {
   "cell_type": "code",
   "execution_count": null,
   "metadata": {},
   "outputs": [],
   "source": []
  }
 ],
 "metadata": {
  "kernelspec": {
   "display_name": "Python 3",
   "language": "python",
   "name": "python3"
  }
 },
 "nbformat": 4,
 "nbformat_minor": 2
}
